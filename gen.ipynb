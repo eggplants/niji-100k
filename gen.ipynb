{
 "cells": [
  {
   "cell_type": "code",
   "execution_count": null,
   "id": "bde3b630",
   "metadata": {},
   "outputs": [],
   "source": [
    "!pip install -r requirements.txt -q\n",
    "import pandas as pd\n",
    "from urllib.parse import quote\n",
    "pd.set_option('display.max_rows', None)"
   ]
  },
  {
   "cell_type": "code",
   "execution_count": null,
   "id": "9241aaa9",
   "metadata": {},
   "outputs": [],
   "source": [
    "df = pd.read_html(\n",
    "    'https://wikiwiki.jp/nijisanji/?cmd=popout' +\n",
    "    '&page=' + quote('メンバーデータ一覧') + '%2F' + quote('チャンネル登録者数') +\n",
    "    '&id=' + quote('大台突破日'))[0]\n",
    "df"
   ]
  },
  {
   "cell_type": "code",
   "execution_count": null,
   "id": "c6d02e7a",
   "metadata": {},
   "outputs": [],
   "source": [
    "df.columns = [s for p,s in df.columns]\n",
    "df = df.dropna(how='any')\n",
    "df"
   ]
  },
  {
   "cell_type": "code",
   "execution_count": null,
   "id": "326ab356",
   "metadata": {},
   "outputs": [],
   "source": [
    "df = df[df['10万人']!='-']\n",
    "df = df.sort_values('10万人')\n",
    "df = df.loc[:,('登録者数','10万人')]\n",
    "df"
   ]
  },
  {
   "cell_type": "code",
   "execution_count": null,
   "id": "502dc22b",
   "metadata": {},
   "outputs": [],
   "source": [
    "df_status = pd.read_csv(\n",
    "    'https://raw.githubusercontent.com/'\n",
    "    'eggplants/nijisanji-v23d-status/'\n",
    "    'master/result.csv'\n",
    ").rename(columns={'name': '登録者数'})\n",
    "df_status"
   ]
  },
  {
   "cell_type": "code",
   "execution_count": null,
   "id": "f0f50546",
   "metadata": {},
   "outputs": [],
   "source": [
    "df = df.merge(df_status)\n",
    "df = df.reset_index(drop=True)\n",
    "df.index.name = 'index'\n",
    "df.index += 1\n",
    "df"
   ]
  },
  {
   "cell_type": "code",
   "execution_count": null,
   "id": "42e02ae2",
   "metadata": {},
   "outputs": [],
   "source": [
    "df.to_csv('res.csv')\n",
    "print(df.to_json(orient=\"records\", indent=2, index=True)\n",
    "      .replace(\"\\\\/\", \"-\")\n",
    "      .encode('latin-1')\n",
    "      .decode('unicode_escape'),\n",
    "      file=open(\"res.json\",\"w\"))"
   ]
  }
 ],
 "metadata": {
  "kernelspec": {
   "display_name": "Python 3 (ipykernel)",
   "language": "python",
   "name": "python3"
  },
  "language_info": {
   "codemirror_mode": {
    "name": "ipython",
    "version": 3
   },
   "file_extension": ".py",
   "mimetype": "text/x-python",
   "name": "python",
   "nbconvert_exporter": "python",
   "pygments_lexer": "ipython3",
   "version": "3.11.1"
  }
 },
 "nbformat": 4,
 "nbformat_minor": 5
}
